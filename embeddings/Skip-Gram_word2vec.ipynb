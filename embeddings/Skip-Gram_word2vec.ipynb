{
 "cells": [
  {
   "cell_type": "markdown",
   "metadata": {},
   "source": [
    "# Skip-gram word2vec\n",
    "\n",
    "In this notebook, I'll lead you through using TensorFlow to implement the word2vec algorithm using the skip-gram architecture. By implementing this, you'll learn about embedding words for use in natural language processing. This will come in handy when dealing with things like machine translation.\n",
    "\n",
    "## Readings\n",
    "\n",
    "Here are the resources I used to build this notebook. I suggest reading these either beforehand or while you're working on this material.\n",
    "\n",
    "* A really good [conceptual overview](http://mccormickml.com/2016/04/19/word2vec-tutorial-the-skip-gram-model/) of word2vec from Chris McCormick \n",
    "* [First word2vec paper](https://arxiv.org/pdf/1301.3781.pdf) from Mikolov et al.\n",
    "* [NIPS paper](http://papers.nips.cc/paper/5021-distributed-representations-of-words-and-phrases-and-their-compositionality.pdf) with improvements for word2vec also from Mikolov et al.\n",
    "* An [implementation of word2vec](http://www.thushv.com/natural_language_processing/word2vec-part-1-nlp-with-deep-learning-with-tensorflow-skip-gram/) from Thushan Ganegedara\n",
    "* TensorFlow [word2vec tutorial](https://www.tensorflow.org/tutorials/word2vec)\n",
    "\n",
    "## Word embeddings\n",
    "\n",
    "When you're dealing with words in text, you end up with tens of thousands of classes to predict, one for each word. Trying to one-hot encode these words is massively inefficient, you'll have one element set to 1 and the other 50,000 set to 0. The matrix multiplication going into the first hidden layer will have almost all of the resulting values be zero. This a huge waste of computation. \n",
    "\n",
    "![one-hot encodings](assets/one_hot_encoding.png)\n",
    "\n",
    "To solve this problem and greatly increase the efficiency of our networks, we use what are called embeddings. Embeddings are just a fully connected layer like you've seen before. We call this layer the embedding layer and the weights are embedding weights. We skip the multiplication into the embedding layer by instead directly grabbing the hidden layer values from the weight matrix. We can do this because the multiplication of a one-hot encoded vector with a matrix returns the row of the matrix corresponding the index of the \"on\" input unit.\n",
    "\n",
    "![lookup](assets/lookup_matrix.png)\n",
    "\n",
    "Instead of doing the matrix multiplication, we use the weight matrix as a lookup table. We encode the words as integers, for example \"heart\" is encoded as 958, \"mind\" as 18094. Then to get hidden layer values for \"heart\", you just take the 958th row of the embedding matrix. This process is called an **embedding lookup** and the number of hidden units is the **embedding dimension**.\n",
    "\n",
    "<img src='assets/tokenize_lookup.png' width=500>\n",
    " \n",
    "There is nothing magical going on here. The embedding lookup table is just a weight matrix. The embedding layer is just a hidden layer. The lookup is just a shortcut for the matrix multiplication. The lookup table is trained just like any weight matrix as well.\n",
    "\n",
    "Embeddings aren't only used for words of course. You can use them for any model where you have a massive number of classes. A particular type of model called **Word2Vec** uses the embedding layer to find vector representations of words that contain semantic meaning.\n",
    "\n"
   ]
  },
  {
   "cell_type": "markdown",
   "metadata": {},
   "source": [
    "## Word2Vec\n",
    "\n",
    "The word2vec algorithm finds much more efficient representations by finding vectors that represent the words. These vectors also contain semantic information about the words. Words that show up in similar contexts, such as \"black\", \"white\", and \"red\" will have vectors near each other. There are two architectures for implementing word2vec, CBOW (Continuous Bag-Of-Words) and Skip-gram.\n",
    "\n",
    "<img src=\"assets/word2vec_architectures.png\" width=\"500\">\n",
    "\n",
    "In this implementation, we'll be using the skip-gram architecture because it performs better than CBOW. Here, we pass in a word and try to predict the words surrounding it in the text. In this way, we can train the network to learn representations for words that show up in similar contexts.\n",
    "\n",
    "First up, importing packages."
   ]
  },
  {
   "cell_type": "code",
   "execution_count": 1,
   "metadata": {
    "collapsed": true
   },
   "outputs": [],
   "source": [
    "import time\n",
    "\n",
    "import numpy as np\n",
    "import tensorflow as tf\n",
    "\n",
    "import utils"
   ]
  },
  {
   "cell_type": "markdown",
   "metadata": {},
   "source": [
    "Load the [text8 dataset](http://mattmahoney.net/dc/textdata.html), a file of cleaned up Wikipedia articles from Matt Mahoney. The next cell will download the data set to the `data` folder. Then you can extract it and delete the archive file to save storage space."
   ]
  },
  {
   "cell_type": "code",
   "execution_count": 2,
   "metadata": {},
   "outputs": [],
   "source": [
    "from urllib.request import urlretrieve\n",
    "from os.path import isfile, isdir\n",
    "from tqdm import tqdm\n",
    "import zipfile\n",
    "\n",
    "dataset_folder_path = 'data'\n",
    "dataset_filename = 'text8.zip'\n",
    "dataset_name = 'Text8 Dataset'\n",
    "\n",
    "class DLProgress(tqdm):\n",
    "    last_block = 0\n",
    "\n",
    "    def hook(self, block_num=1, block_size=1, total_size=None):\n",
    "        self.total = total_size\n",
    "        self.update((block_num - self.last_block) * block_size)\n",
    "        self.last_block = block_num\n",
    "\n",
    "if not isfile(dataset_filename):\n",
    "    with DLProgress(unit='B', unit_scale=True, miniters=1, desc=dataset_name) as pbar:\n",
    "        urlretrieve(\n",
    "            'http://mattmahoney.net/dc/text8.zip',\n",
    "            dataset_filename,\n",
    "            pbar.hook)\n",
    "\n",
    "if not isdir(dataset_folder_path):\n",
    "    with zipfile.ZipFile(dataset_filename) as zip_ref:\n",
    "        zip_ref.extractall(dataset_folder_path)\n",
    "        \n",
    "with open('data/text8') as f:\n",
    "    text = f.read()"
   ]
  },
  {
   "cell_type": "markdown",
   "metadata": {},
   "source": [
    "## Preprocessing\n",
    "\n",
    "Here I'm fixing up the text to make training easier. This comes from the `utils` module I wrote. The `preprocess` function coverts any punctuation into tokens, so a period is changed to ` <PERIOD> `. In this data set, there aren't any periods, but it will help in other NLP problems. I'm also removing all words that show up five or fewer times in the dataset. This will greatly reduce issues due to noise in the data and improve the quality of the vector representations. If you want to write your own functions for this stuff, go for it."
   ]
  },
  {
   "cell_type": "code",
   "execution_count": 3,
   "metadata": {},
   "outputs": [
    {
     "name": "stdout",
     "output_type": "stream",
     "text": [
      "['anarchism', 'originated', 'as', 'a', 'term', 'of', 'abuse', 'first', 'used', 'against', 'early', 'working', 'class', 'radicals', 'including', 'the', 'diggers', 'of', 'the', 'english', 'revolution', 'and', 'the', 'sans', 'culottes', 'of', 'the', 'french', 'revolution', 'whilst']\n"
     ]
    }
   ],
   "source": [
    "words = utils.preprocess(text)\n",
    "print(words[:30])"
   ]
  },
  {
   "cell_type": "code",
   "execution_count": 4,
   "metadata": {},
   "outputs": [
    {
     "name": "stdout",
     "output_type": "stream",
     "text": [
      "Total words: 16680599\n",
      "Unique words: 63641\n"
     ]
    }
   ],
   "source": [
    "print(\"Total words: {}\".format(len(words)))\n",
    "print(\"Unique words: {}\".format(len(set(words))))"
   ]
  },
  {
   "cell_type": "markdown",
   "metadata": {},
   "source": [
    "And here I'm creating dictionaries to covert words to integers and backwards, integers to words. The integers are assigned in descending frequency order, so the most frequent word (\"the\") is given the integer 0 and the next most frequent is 1 and so on. The words are converted to integers and stored in the list `int_words`."
   ]
  },
  {
   "cell_type": "code",
   "execution_count": 5,
   "metadata": {
    "collapsed": true
   },
   "outputs": [],
   "source": [
    "vocab_to_int, int_to_vocab = utils.create_lookup_tables(words)\n",
    "int_words = [vocab_to_int[word] for word in words]"
   ]
  },
  {
   "cell_type": "markdown",
   "metadata": {},
   "source": [
    "## Subsampling\n",
    "\n",
    "Words that show up often such as \"the\", \"of\", and \"for\" don't provide much context to the nearby words. If we discard some of them, we can remove some of the noise from our data and in return get faster training and better representations. This process is called subsampling by Mikolov. For each word $w_i$ in the training set, we'll discard it with probability given by \n",
    "\n",
    "$$ P(w_i) = 1 - \\sqrt{\\frac{t}{f(w_i)}} $$\n",
    "\n",
    "where $t$ is a threshold parameter and $f(w_i)$ is the frequency of word $w_i$ in the total dataset.\n",
    "\n",
    "I'm going to leave this up to you as an exercise. This is more of a programming challenge, than about deep learning specifically. But, being able to prepare your data for your network is an important skill to have. Check out my solution to see how I did it.\n",
    "\n",
    "> **Exercise:** Implement subsampling for the words in `int_words`. That is, go through `int_words` and discard each word given the probablility $P(w_i)$ shown above. Note that $P(w_i)$ is the probability that a word is discarded. Assign the subsampled data to `train_words`."
   ]
  },
  {
   "cell_type": "code",
   "execution_count": 6,
   "metadata": {
    "collapsed": true
   },
   "outputs": [],
   "source": [
    "## Your code here\n",
    "from collections import Counter\n",
    "from random import random\n",
    "from math import sqrt\n",
    "t = 1e-5\n",
    "c = Counter(int_words)\n",
    "total = len(int_words)\n",
    "f = {w: wc/total for w, wc in c.items()}\n",
    "p = {w: 1 - sqrt(t/wf) for w, wf in f.items()}\n",
    "train_words = [w for w in int_words if random() < 1 - p[w]]"
   ]
  },
  {
   "cell_type": "markdown",
   "metadata": {},
   "source": [
    "## Making batches"
   ]
  },
  {
   "cell_type": "markdown",
   "metadata": {},
   "source": [
    "Now that our data is in good shape, we need to get it into the proper form to pass it into our network. With the skip-gram architecture, for each word in the text, we want to grab all the words in a window around that word, with size $C$. \n",
    "\n",
    "From [Mikolov et al.](https://arxiv.org/pdf/1301.3781.pdf): \n",
    "\n",
    "\"Since the more distant words are usually less related to the current word than those close to it, we give less weight to the distant words by sampling less from those words in our training examples... If we choose $C = 5$, for each training word we will select randomly a number $R$ in range $< 1; C >$, and then use $R$ words from history and $R$ words from the future of the current word as correct labels.\"\n",
    "\n",
    "> **Exercise:** Implement a function `get_target` that receives a list of words, an index, and a window size, then returns a list of words in the window around the index. Make sure to use the algorithm described above, where you choose a random number of words from the window."
   ]
  },
  {
   "cell_type": "code",
   "execution_count": 7,
   "metadata": {
    "collapsed": true
   },
   "outputs": [],
   "source": [
    "from random import randint\n",
    "\n",
    "def get_target(words, idx, window_size=5):\n",
    "    ''' Get a list of words in a window around an index. '''\n",
    "    r = randint(1, window_size)\n",
    "    start = idx-r if idx-r > 0 else 0\n",
    "    return list(set(words[start:idx] + words[idx+1:idx+1+r]))"
   ]
  },
  {
   "cell_type": "markdown",
   "metadata": {},
   "source": [
    "Here's a function that returns batches for our network. The idea is that it grabs `batch_size` words from a words list. Then for each of those words, it gets the target words in the window. I haven't found a way to pass in a random number of target words and get it to work with the architecture, so I make one row per input-target pair. This is a generator function by the way, helps save memory."
   ]
  },
  {
   "cell_type": "code",
   "execution_count": 8,
   "metadata": {
    "collapsed": true
   },
   "outputs": [],
   "source": [
    "def get_batches(words, batch_size, window_size=5):\n",
    "    ''' Create a generator of word batches as a tuple (inputs, targets) '''\n",
    "    \n",
    "    n_batches = len(words)//batch_size\n",
    "    \n",
    "    # only full batches\n",
    "    words = words[:n_batches*batch_size]\n",
    "    \n",
    "    for idx in range(0, len(words), batch_size):\n",
    "        x, y = [], []\n",
    "        batch = words[idx:idx+batch_size]\n",
    "        for ii in range(len(batch)):\n",
    "            batch_x = batch[ii]\n",
    "            batch_y = get_target(batch, ii, window_size)\n",
    "            y.extend(batch_y)\n",
    "            x.extend([batch_x]*len(batch_y))\n",
    "        yield x, y\n",
    "    "
   ]
  },
  {
   "cell_type": "markdown",
   "metadata": {},
   "source": [
    "## Building the graph\n",
    "\n",
    "From [Chris McCormick's blog](http://mccormickml.com/2016/04/19/word2vec-tutorial-the-skip-gram-model/), we can see the general structure of our network.\n",
    "![embedding_network](./assets/skip_gram_net_arch.png)\n",
    "\n",
    "The input words are passed in as integers. This will go into a hidden layer of linear units, then into a softmax layer. We'll use the softmax layer to make a prediction like normal.\n",
    "\n",
    "The idea here is to train the hidden layer weight matrix to find efficient representations for our words. We can discard the softmax layer becuase we don't really care about making predictions with this network. We just want the embedding matrix so we can use it in other networks we build from the dataset.\n",
    "\n",
    "I'm going to have you build the graph in stages now. First off, creating the `inputs` and `labels` placeholders like normal.\n",
    "\n",
    "> **Exercise:** Assign `inputs` and `labels` using `tf.placeholder`. We're going to be passing in integers, so set the data types to `tf.int32`. The batches we're passing in will have varying sizes, so set the batch sizes to [`None`]. To make things work later, you'll need to set the second dimension of `labels` to `None` or `1`."
   ]
  },
  {
   "cell_type": "code",
   "execution_count": 9,
   "metadata": {
    "collapsed": true
   },
   "outputs": [],
   "source": [
    "train_graph = tf.Graph()\n",
    "with train_graph.as_default():\n",
    "    inputs = tf.placeholder(tf.int32, (None,), name='inputs')\n",
    "    labels = tf.placeholder(tf.int32, (None, 1), name='labels')"
   ]
  },
  {
   "cell_type": "markdown",
   "metadata": {},
   "source": [
    "## Embedding\n",
    "\n"
   ]
  },
  {
   "cell_type": "markdown",
   "metadata": {
    "collapsed": true
   },
   "source": [
    "The embedding matrix has a size of the number of words by the number of units in the hidden layer. So, if you have 10,000 words and 300 hidden units, the matrix will have size $10,000 \\times 300$. Remember that we're using tokenized data for our inputs, usually as integers, where the number of tokens is the number of words in our vocabulary.\n",
    "\n",
    "\n",
    "> **Exercise:** Tensorflow provides a convenient function [`tf.nn.embedding_lookup`](https://www.tensorflow.org/api_docs/python/tf/nn/embedding_lookup) that does this lookup for us. You pass in the embedding matrix and a tensor of integers, then it returns rows in the matrix corresponding to those integers. Below, set the number of embedding features you'll use (200 is a good start), create the embedding matrix variable, and use `tf.nn.embedding_lookup` to get the embedding tensors. For the embedding matrix, I suggest you initialize it with a uniform random numbers between -1 and 1 using [tf.random_uniform](https://www.tensorflow.org/api_docs/python/tf/random_uniform)."
   ]
  },
  {
   "cell_type": "code",
   "execution_count": 13,
   "metadata": {},
   "outputs": [],
   "source": [
    "n_vocab = len(int_to_vocab)\n",
    "n_embedding = 200 # Number of embedding features \n",
    "with train_graph.as_default():\n",
    "    embedding = tf.Variable(tf.random_uniform((n_vocab, n_embedding), -1, 1)) # create embedding weight matrix here\n",
    "    embed = tf.nn.embedding_lookup(embedding, inputs) # use tf.nn.embedding_lookup to get the hidden layer output"
   ]
  },
  {
   "cell_type": "markdown",
   "metadata": {},
   "source": [
    "## Negative sampling\n",
    "\n"
   ]
  },
  {
   "cell_type": "markdown",
   "metadata": {},
   "source": [
    "For every example we give the network, we train it using the output from the softmax layer. That means for each input, we're making very small changes to millions of weights even though we only have one true example. This makes training the network very inefficient. We can approximate the loss from the softmax layer by only updating a small subset of all the weights at once. We'll update the weights for the correct label, but only a small number of incorrect labels. This is called [\"negative sampling\"](http://papers.nips.cc/paper/5021-distributed-representations-of-words-and-phrases-and-their-compositionality.pdf). Tensorflow has a convenient function to do this, [`tf.nn.sampled_softmax_loss`](https://www.tensorflow.org/api_docs/python/tf/nn/sampled_softmax_loss).\n",
    "\n",
    "> **Exercise:** Below, create weights and biases for the softmax layer. Then, use [`tf.nn.sampled_softmax_loss`](https://www.tensorflow.org/api_docs/python/tf/nn/sampled_softmax_loss) to calculate the loss. Be sure to read the documentation to figure out how it works."
   ]
  },
  {
   "cell_type": "code",
   "execution_count": 15,
   "metadata": {},
   "outputs": [],
   "source": [
    "# Number of negative labels to sample\n",
    "n_sampled = 100\n",
    "with train_graph.as_default():\n",
    "    softmax_w = tf.Variable(tf.truncated_normal((n_vocab, n_embedding), stddev=0.1)) # create softmax weight matrix here\n",
    "    softmax_b = tf.Variable(tf.zeros(n_vocab)) # create softmax biases here\n",
    "    \n",
    "    # Calculate the loss using negative sampling\n",
    "    loss = tf.nn.sampled_softmax_loss(softmax_w, softmax_b, labels, embed, n_sampled, n_vocab)\n",
    "    \n",
    "    cost = tf.reduce_mean(loss)\n",
    "    optimizer = tf.train.AdamOptimizer().minimize(cost)"
   ]
  },
  {
   "cell_type": "markdown",
   "metadata": {},
   "source": [
    "## Validation\n",
    "\n",
    "This code is from Thushan Ganegedara's implementation. Here we're going to choose a few common words and few uncommon words. Then, we'll print out the closest words to them. It's a nice way to check that our embedding table is grouping together words with similar semantic meanings."
   ]
  },
  {
   "cell_type": "code",
   "execution_count": 17,
   "metadata": {},
   "outputs": [],
   "source": [
    "import random\n",
    "\n",
    "with train_graph.as_default():\n",
    "    ## From Thushan Ganegedara's implementation\n",
    "    valid_size = 16 # Random set of words to evaluate similarity on.\n",
    "    valid_window = 100\n",
    "    # pick 8 samples from (0,100) and (1000,1100) each ranges. lower id implies more frequent \n",
    "    valid_examples = np.array(random.sample(range(valid_window), valid_size//2))\n",
    "    valid_examples = np.append(valid_examples, \n",
    "                               random.sample(range(1000,1000+valid_window), valid_size//2))\n",
    "\n",
    "    valid_dataset = tf.constant(valid_examples, dtype=tf.int32)\n",
    "    \n",
    "    # We use the cosine distance:\n",
    "    norm = tf.sqrt(tf.reduce_sum(tf.square(embedding), 1, keep_dims=True))\n",
    "    normalized_embedding = embedding / norm\n",
    "    valid_embedding = tf.nn.embedding_lookup(normalized_embedding, valid_dataset)\n",
    "    similarity = tf.matmul(valid_embedding, tf.transpose(normalized_embedding))"
   ]
  },
  {
   "cell_type": "code",
   "execution_count": 18,
   "metadata": {
    "collapsed": true
   },
   "outputs": [],
   "source": [
    "# If the checkpoints directory doesn't exist:\n",
    "!mkdir checkpoints"
   ]
  },
  {
   "cell_type": "markdown",
   "metadata": {},
   "source": [
    "## Training\n",
    "\n",
    "Below is the code to train the network. Every 100 batches it reports the training loss. Every 1000 batches, it'll print out the validation words."
   ]
  },
  {
   "cell_type": "code",
   "execution_count": null,
   "metadata": {},
   "outputs": [
    {
     "name": "stdout",
     "output_type": "stream",
     "text": [
      "Epoch 1/10 Iteration: 100 Avg. Training loss: 5.6684 0.5240 sec/batch\n",
      "Epoch 1/10 Iteration: 200 Avg. Training loss: 5.6440 4.6681 sec/batch\n",
      "Epoch 1/10 Iteration: 300 Avg. Training loss: 5.4713 0.4287 sec/batch\n",
      "Epoch 1/10 Iteration: 400 Avg. Training loss: 5.6051 0.4147 sec/batch\n",
      "Epoch 1/10 Iteration: 500 Avg. Training loss: 5.5253 0.4140 sec/batch\n",
      "Epoch 1/10 Iteration: 600 Avg. Training loss: 5.5750 0.4194 sec/batch\n",
      "Epoch 1/10 Iteration: 700 Avg. Training loss: 5.5616 0.4232 sec/batch\n",
      "Epoch 1/10 Iteration: 800 Avg. Training loss: 5.5270 0.4175 sec/batch\n",
      "Epoch 1/10 Iteration: 900 Avg. Training loss: 5.4873 0.4109 sec/batch\n",
      "Epoch 1/10 Iteration: 1000 Avg. Training loss: 5.4100 0.4472 sec/batch\n",
      "Nearest to world: trucking, genji, talleyrand, jacurutu, milliard, vedic, metastability, occured,\n",
      "Nearest to may: social, ganshof, danish, funet, whipped, jeroboam, titisee, ourcivilisation,\n",
      "Nearest to called: gardener, cession, hc, chess, fest, mits, unattractive, perfect,\n",
      "Nearest to this: snout, verdon, sheet, rede, saints, lodgings, cio, zara,\n",
      "Nearest to most: respectability, berne, djinni, matthew, hampden, christine, blocked, flaubert,\n",
      "Nearest to is: panavia, laodicea, polypeptide, coloureds, cryogenically, biscay, libels, beach,\n",
      "Nearest to time: lilia, tumbling, midrashic, fallback, morricone, hing, spooky, affiliated,\n",
      "Nearest to in: legio, holds, nste, sectioned, misheard, selberg, survive, freewheelin,\n",
      "Nearest to universe: terrestrial, girth, gallon, alabaster, desilu, bringer, roddy, instinctively,\n",
      "Nearest to instance: unholy, kal, dynes, inglewood, elements, winifred, spyware, hak,\n",
      "Nearest to award: caplan, whack, decorations, parsers, cadaver, unwelcome, mig, kaun,\n",
      "Nearest to troops: perl, lomazzo, copyright, catatonic, buchner, provoking, gow, holyrood,\n",
      "Nearest to report: coy, attachments, rig, thornley, entwistle, referencing, moulds, finally,\n",
      "Nearest to cost: convinces, janitor, expend, generalizations, discogs, hugely, letsie, subscript,\n",
      "Nearest to prince: phylogeny, hitler, infancy, untie, advocated, unpredictability, chroniclers, juno,\n",
      "Nearest to freedom: kok, thc, blinds, theropods, hemorrhagic, michael, dint, introduce,\n",
      "Epoch 1/10 Iteration: 1100 Avg. Training loss: 5.5061 0.5129 sec/batch\n",
      "Epoch 1/10 Iteration: 1200 Avg. Training loss: 5.4343 0.4529 sec/batch\n",
      "Epoch 1/10 Iteration: 1300 Avg. Training loss: 5.3455 0.4256 sec/batch\n",
      "Epoch 1/10 Iteration: 1400 Avg. Training loss: 5.2616 0.4714 sec/batch\n",
      "Epoch 1/10 Iteration: 1500 Avg. Training loss: 5.1918 0.4502 sec/batch\n",
      "Epoch 1/10 Iteration: 1600 Avg. Training loss: 5.1968 0.4250 sec/batch\n",
      "Epoch 1/10 Iteration: 1700 Avg. Training loss: 5.1279 0.4098 sec/batch\n",
      "Epoch 1/10 Iteration: 1800 Avg. Training loss: 5.0920 0.4253 sec/batch\n",
      "Epoch 1/10 Iteration: 1900 Avg. Training loss: 5.0102 0.4090 sec/batch\n",
      "Epoch 1/10 Iteration: 2000 Avg. Training loss: 4.9999 0.4608 sec/batch\n",
      "Nearest to world: trucking, vedic, talleyrand, occured, rescue, jacurutu, program, surge,\n",
      "Nearest to may: social, fourth, original, r, ganshof, chaser, chromaticity, danish,\n",
      "Nearest to called: hc, perfect, gardener, cession, accompanied, chess, mits, ceremony,\n",
      "Nearest to this: saints, secret, address, never, required, snout, physical, michael,\n",
      "Nearest to most: even, some, matthew, respectability, blocked, survive, firms, enduring,\n",
      "Nearest to is: laodicea, beach, wife, cheap, moving, eagle, mi, development,\n",
      "Nearest to time: lilia, tumbling, affiliated, fallback, turner, graham, hunter, ends,\n",
      "Nearest to in: legio, survive, holds, stocks, documented, sectioned, subvert, ex,\n",
      "Nearest to universe: terrestrial, gallon, girth, some, superheroes, alabaster, needed, bringer,\n",
      "Nearest to instance: elements, unholy, silicon, realize, jurassic, kal, spyware, inglewood,\n",
      "Nearest to award: decorations, caplan, whack, parsers, cadaver, abundance, disposal, scales,\n",
      "Nearest to troops: perl, copyright, buchner, holyrood, fertilization, lomazzo, figaro, scholars,\n",
      "Nearest to report: attachments, finally, communicate, coy, rig, onto, cab, fleury,\n",
      "Nearest to cost: method, expend, generalizations, ban, consultants, allied, janitor, subscript,\n",
      "Nearest to prince: phylogeny, advocated, hitler, infancy, untie, unpredictability, prakrit, chroniclers,\n",
      "Nearest to freedom: blinds, thc, introduce, michael, danson, theropods, synthesizer, abc,\n",
      "Epoch 1/10 Iteration: 2100 Avg. Training loss: 4.9535 0.4480 sec/batch\n",
      "Epoch 1/10 Iteration: 2200 Avg. Training loss: 4.8803 0.4632 sec/batch\n",
      "Epoch 1/10 Iteration: 2300 Avg. Training loss: 4.8585 0.4406 sec/batch\n",
      "Epoch 1/10 Iteration: 2400 Avg. Training loss: 4.8640 0.4301 sec/batch\n",
      "Epoch 1/10 Iteration: 2500 Avg. Training loss: 4.8151 0.4312 sec/batch\n",
      "Epoch 1/10 Iteration: 2600 Avg. Training loss: 4.8412 0.4436 sec/batch\n",
      "Epoch 1/10 Iteration: 2700 Avg. Training loss: 4.8150 0.4481 sec/batch\n",
      "Epoch 1/10 Iteration: 2800 Avg. Training loss: 4.7815 0.4374 sec/batch\n",
      "Epoch 1/10 Iteration: 2900 Avg. Training loss: 4.7763 0.4404 sec/batch\n",
      "Epoch 1/10 Iteration: 3000 Avg. Training loss: 4.7859 0.4656 sec/batch\n",
      "Nearest to world: trucking, surge, talleyrand, vedic, metastability, genji, bantam, stephen,\n",
      "Nearest to may: social, original, fourth, ganshof, chaser, r, danish, chromaticity,\n",
      "Nearest to called: gardener, cession, hc, chess, perfect, ceremony, accompanied, fest,\n",
      "Nearest to this: snout, address, saints, pornography, required, verdon, sheet, secret,\n",
      "Nearest to most: even, respectability, some, matthew, blocked, survive, berne, curtail,\n",
      "Nearest to is: panavia, beach, eagle, text, polypeptide, welch, accented, laodicea,\n",
      "Nearest to time: lilia, affiliated, tumbling, fallback, midrashic, powers, morricone, turner,\n",
      "Nearest to in: legio, survive, stocks, documented, stress, sectioned, holds, trips,\n",
      "Nearest to universe: terrestrial, gallon, some, girth, superheroes, needed, bringer, alabaster,\n",
      "Nearest to instance: unholy, kal, elements, inglewood, silicon, spyware, jurassic, unwise,\n",
      "Nearest to award: decorations, whack, caplan, parsers, cadaver, unwelcome, chronicled, answered,\n",
      "Nearest to troops: perl, copyright, wife, holyrood, scholars, fertilization, reconciliation, chips,\n",
      "Nearest to report: attachments, finally, communicate, sophistication, rig, referencing, laud, islam,\n",
      "Nearest to cost: expend, generalizations, method, ban, hugely, janitor, convinces, subscript,\n",
      "Nearest to prince: hitler, phylogeny, infancy, untie, advocated, organisations, prakrit, juno,\n",
      "Nearest to freedom: michael, abc, introduce, connery, blinds, thc, arrival, danson,\n",
      "Epoch 1/10 Iteration: 3100 Avg. Training loss: 4.7664 0.5760 sec/batch\n",
      "Epoch 1/10 Iteration: 3200 Avg. Training loss: 4.7551 0.4384 sec/batch\n",
      "Epoch 1/10 Iteration: 3300 Avg. Training loss: 4.7266 0.5366 sec/batch\n",
      "Epoch 1/10 Iteration: 3400 Avg. Training loss: 4.7129 36.0189 sec/batch\n",
      "Epoch 1/10 Iteration: 3500 Avg. Training loss: 4.7404 -0.1350 sec/batch\n",
      "Epoch 1/10 Iteration: 3600 Avg. Training loss: 4.7183 0.3613 sec/batch\n",
      "Epoch 1/10 Iteration: 3700 Avg. Training loss: 4.7015 0.4140 sec/batch\n",
      "Epoch 1/10 Iteration: 3800 Avg. Training loss: 4.7520 0.5405 sec/batch\n",
      "Epoch 1/10 Iteration: 3900 Avg. Training loss: 4.6757 0.5142 sec/batch\n",
      "Epoch 1/10 Iteration: 4000 Avg. Training loss: 4.6570 0.5386 sec/batch\n",
      "Nearest to world: trucking, talleyrand, metastability, surge, genji, hale, vedic, bantam,\n",
      "Nearest to may: social, original, ganshof, fourth, chaser, chromaticity, funet, distilling,\n",
      "Nearest to called: cession, gardener, hc, fest, chess, perfect, mits, unattractive,\n",
      "Nearest to this: snout, verdon, ionization, pornography, address, required, woodwind, cabin,\n",
      "Nearest to most: even, some, respectability, curtail, curtain, rumours, berne, survive,\n",
      "Nearest to is: panavia, polypeptide, welch, josephus, text, cryogenically, accented, eagle,\n",
      "Nearest to time: lilia, midrashic, tumbling, affiliated, peale, fallback, stronghold, morricone,\n",
      "Nearest to in: legio, survive, stocks, sectioned, arianism, documented, withdrawing, trips,\n",
      "Nearest to universe: terrestrial, gallon, some, girth, alabaster, needed, insoluble, superheroes,\n",
      "Nearest to instance: kal, inglewood, unholy, spyware, elements, silicon, unwise, magi,\n",
      "Nearest to award: caplan, whack, decorations, parsers, unwelcome, deaths, cadaver, faust,\n",
      "Nearest to troops: copyright, perl, wife, holyrood, devonshire, figaro, reconciliation, buchner,\n",
      "Nearest to report: attachments, coy, finally, communicate, referencing, entwistle, sophistication, heraldic,\n",
      "Nearest to cost: hugely, generalizations, expend, janitor, method, ban, convinces, exterior,\n",
      "Nearest to prince: hitler, phylogeny, infancy, untie, juno, advocated, organisations, chroniclers,\n",
      "Nearest to freedom: abc, thc, michael, connery, blinds, introduce, morally, approves,\n"
     ]
    },
    {
     "name": "stdout",
     "output_type": "stream",
     "text": [
      "Epoch 1/10 Iteration: 4100 Avg. Training loss: 4.6531 0.5554 sec/batch\n",
      "Epoch 1/10 Iteration: 4200 Avg. Training loss: 4.6984 0.4437 sec/batch\n",
      "Epoch 1/10 Iteration: 4300 Avg. Training loss: 4.6074 0.4282 sec/batch\n",
      "Epoch 1/10 Iteration: 4400 Avg. Training loss: 4.6346 0.4216 sec/batch\n",
      "Epoch 1/10 Iteration: 4500 Avg. Training loss: 4.6338 2.4722 sec/batch\n",
      "Epoch 1/10 Iteration: 4600 Avg. Training loss: 4.6313 0.8110 sec/batch\n",
      "Epoch 2/10 Iteration: 4700 Avg. Training loss: 4.6082 0.3859 sec/batch\n",
      "Epoch 2/10 Iteration: 4800 Avg. Training loss: 4.5701 0.5254 sec/batch\n",
      "Epoch 2/10 Iteration: 4900 Avg. Training loss: 4.5040 0.5227 sec/batch\n",
      "Epoch 2/10 Iteration: 5000 Avg. Training loss: 4.5154 0.5290 sec/batch\n",
      "Nearest to world: trucking, talleyrand, surge, metastability, hale, draper, vedic, genji,\n",
      "Nearest to may: social, ganshof, original, chaser, fourth, chromaticity, whipped, jeroboam,\n",
      "Nearest to called: cession, gardener, hc, readily, perfect, analogy, mits, unattractive,\n",
      "Nearest to this: snout, verdon, ionization, woodwind, required, pornography, address, cabin,\n",
      "Nearest to most: even, some, blocked, rumours, respectability, hampden, curtail, wallpapers,\n",
      "Nearest to is: text, panavia, y, fundamental, felines, cryogenically, josephus, polypeptide,\n",
      "Nearest to time: lilia, tumbling, affiliated, midrashic, peale, morricone, fallback, spooky,\n",
      "Nearest to in: legio, sectioned, survive, stocks, documented, arianism, withdrawing, trips,\n",
      "Nearest to universe: terrestrial, gallon, some, girth, alabaster, accessibility, superheroes, insoluble,\n",
      "Nearest to instance: kal, spyware, elements, inglewood, unholy, silicon, food, unwise,\n",
      "Nearest to award: caplan, whack, decorations, parsers, lee, unwelcome, fame, deaths,\n",
      "Nearest to troops: wife, devonshire, copyright, holyrood, buchner, vistula, reconciliation, abiotic,\n",
      "Nearest to report: attachments, coy, communicate, finally, breve, referencing, sophistication, entwistle,\n",
      "Nearest to cost: hugely, method, generalizations, expend, convinces, ban, exterior, janitor,\n",
      "Nearest to prince: hitler, infancy, untie, leagues, juno, advocated, phylogeny, chroniclers,\n",
      "Nearest to freedom: abc, thc, blinds, connery, michael, theropods, kok, morally,\n",
      "Epoch 2/10 Iteration: 5100 Avg. Training loss: 4.5099 0.5669 sec/batch\n",
      "Epoch 2/10 Iteration: 5200 Avg. Training loss: 4.5000 0.5026 sec/batch\n",
      "Epoch 2/10 Iteration: 5300 Avg. Training loss: 4.4619 0.4659 sec/batch\n",
      "Epoch 2/10 Iteration: 5400 Avg. Training loss: 4.5106 0.3614 sec/batch\n",
      "Epoch 2/10 Iteration: 5500 Avg. Training loss: 4.4889 0.3592 sec/batch\n",
      "Epoch 2/10 Iteration: 5600 Avg. Training loss: 4.4718 0.4756 sec/batch\n",
      "Epoch 2/10 Iteration: 5700 Avg. Training loss: 4.4795 0.4993 sec/batch\n",
      "Epoch 2/10 Iteration: 5800 Avg. Training loss: 4.4043 0.4889 sec/batch\n",
      "Epoch 2/10 Iteration: 5900 Avg. Training loss: 4.4284 0.4855 sec/batch\n",
      "Epoch 2/10 Iteration: 6000 Avg. Training loss: 4.4223 0.4833 sec/batch\n",
      "Nearest to world: trucking, surge, talleyrand, draper, hale, metastability, milliard, bantam,\n",
      "Nearest to may: social, ganshof, chaser, original, whipped, chromaticity, jeroboam, equites,\n",
      "Nearest to called: cession, gardener, readily, analogy, perfect, hc, mits, unattractive,\n",
      "Nearest to this: snout, ionization, required, verdon, address, woodwind, pornography, argumentative,\n",
      "Nearest to most: even, some, curtail, respectability, blocked, rumours, wallpapers, stymied,\n",
      "Nearest to is: felines, y, polypeptide, fundamental, a, panavia, text, josephus,\n",
      "Nearest to time: lilia, affiliated, tumbling, midrashic, peale, morricone, hing, fallback,\n",
      "Nearest to in: legio, sectioned, stocks, survive, ceramic, documented, subvert, trips,\n",
      "Nearest to universe: terrestrial, gallon, girth, some, assumptions, insoluble, ranging, alabaster,\n",
      "Nearest to instance: elements, kal, inglewood, spyware, silicon, substituted, unholy, emotive,\n",
      "Nearest to award: caplan, whack, lee, fame, decorations, parsers, faust, fred,\n",
      "Nearest to troops: wife, devonshire, buchner, vistula, holyrood, reconciliation, abiotic, figaro,\n",
      "Nearest to report: attachments, entwistle, breve, coy, communicate, finally, heraldic, laud,\n",
      "Nearest to cost: hugely, generalizations, method, convinces, aukrust, expend, ban, janitor,\n",
      "Nearest to prince: hitler, infancy, untie, juno, advocated, chroniclers, leagues, betrayed,\n",
      "Nearest to freedom: thc, abc, blinds, connery, theropods, counsel, ousted, undermine,\n",
      "Epoch 2/10 Iteration: 6100 Avg. Training loss: 4.4324 0.5050 sec/batch\n",
      "Epoch 2/10 Iteration: 6200 Avg. Training loss: 4.3988 0.4863 sec/batch\n",
      "Epoch 2/10 Iteration: 6300 Avg. Training loss: 4.4232 0.4700 sec/batch\n",
      "Epoch 2/10 Iteration: 6400 Avg. Training loss: 4.3980 0.4768 sec/batch\n",
      "Epoch 2/10 Iteration: 6500 Avg. Training loss: 4.4275 0.4731 sec/batch\n",
      "Epoch 2/10 Iteration: 6600 Avg. Training loss: 4.4569 0.5076 sec/batch\n",
      "Epoch 2/10 Iteration: 6700 Avg. Training loss: 4.3759 0.5348 sec/batch\n",
      "Epoch 2/10 Iteration: 6800 Avg. Training loss: 4.3808 0.4909 sec/batch\n",
      "Epoch 2/10 Iteration: 6900 Avg. Training loss: 4.4215 0.4836 sec/batch\n",
      "Epoch 2/10 Iteration: 7000 Avg. Training loss: 4.3440 0.4907 sec/batch\n",
      "Nearest to world: trucking, surge, talleyrand, hale, draper, bunsen, pyroxene, bantam,\n",
      "Nearest to may: social, ganshof, chaser, chromaticity, whipped, original, than, equites,\n",
      "Nearest to called: cession, gardener, analogy, perfect, hc, readily, chess, mits,\n",
      "Nearest to this: snout, ionization, required, not, pornography, interoperable, verdon, subalgebra,\n",
      "Nearest to most: even, some, respectability, curtail, rumours, stymied, blocked, hampden,\n",
      "Nearest to is: felines, polypeptide, a, fundamental, y, implicitly, panavia, undergoes,\n",
      "Nearest to time: lilia, morricone, midrashic, affiliated, hing, peale, spooky, fallback,\n",
      "Nearest to in: legio, sectioned, stocks, survive, trips, documented, ceramic, bah,\n",
      "Nearest to universe: terrestrial, gallon, girth, assumptions, some, insoluble, ranging, alabaster,\n",
      "Nearest to instance: kal, spyware, inglewood, elements, unholy, emotive, silicon, unwise,\n",
      "Nearest to award: caplan, fame, whack, lee, decorations, faust, unwelcome, parsers,\n",
      "Nearest to troops: vistula, wife, devonshire, buchner, reconciliation, holyrood, figaro, insistent,\n",
      "Nearest to report: attachments, entwistle, communicate, coy, heraldic, infants, breve, referencing,\n",
      "Nearest to cost: aukrust, ban, hugely, generalizations, method, expend, convinces, systems,\n",
      "Nearest to prince: hitler, infancy, oliver, untie, juno, unpredictability, advocated, betrayed,\n",
      "Nearest to freedom: thc, undermine, theropods, morally, hippy, minors, counsel, chroma,\n",
      "Epoch 2/10 Iteration: 7100 Avg. Training loss: 4.3688 0.4863 sec/batch\n",
      "Epoch 2/10 Iteration: 7200 Avg. Training loss: 4.3959 0.4776 sec/batch\n",
      "Epoch 2/10 Iteration: 7300 Avg. Training loss: 4.3581 0.4778 sec/batch\n",
      "Epoch 2/10 Iteration: 7400 Avg. Training loss: 4.3609 0.4740 sec/batch\n",
      "Epoch 2/10 Iteration: 7500 Avg. Training loss: 4.3796 0.4775 sec/batch\n",
      "Epoch 2/10 Iteration: 7600 Avg. Training loss: 4.3906 0.4723 sec/batch\n",
      "Epoch 2/10 Iteration: 7700 Avg. Training loss: 4.3423 0.4760 sec/batch\n",
      "Epoch 2/10 Iteration: 7800 Avg. Training loss: 4.3996 0.4832 sec/batch\n",
      "Epoch 2/10 Iteration: 7900 Avg. Training loss: 4.3166 0.4806 sec/batch\n",
      "Epoch 2/10 Iteration: 8000 Avg. Training loss: 4.3334 0.4722 sec/batch\n",
      "Nearest to world: trucking, surge, hale, draper, metastability, bantam, talleyrand, pyroxene,\n",
      "Nearest to may: social, ganshof, chromaticity, whipped, chaser, ourcivilisation, outside, equites,\n",
      "Nearest to called: gardener, cession, analogy, perfect, chess, hc, mits, unattractive,\n",
      "Nearest to this: snout, ionization, interoperable, required, subalgebra, interpolations, not, argumentative,\n",
      "Nearest to most: some, even, respectability, curtail, blocked, stymied, wallpapers, survive,\n",
      "Nearest to is: a, polypeptide, felines, fundamental, y, implicitly, accented, entails,\n",
      "Nearest to time: lilia, morricone, hing, midrashic, spooky, affiliated, tumbling, peale,\n",
      "Nearest to in: legio, stocks, sectioned, herr, survive, ceramic, documented, other,\n",
      "Nearest to universe: gallon, terrestrial, girth, assumptions, cosmic, mng, serially, insoluble,\n",
      "Nearest to instance: inglewood, spyware, kal, elements, unholy, emotive, unwise, prolonging,\n",
      "Nearest to award: caplan, fame, whack, lee, decorations, faust, awards, unwelcome,\n",
      "Nearest to troops: wife, reconciliation, buchner, vistula, devonshire, zimbabwean, holyrood, rebuilding,\n",
      "Nearest to report: attachments, entwistle, communicate, coy, soviet, referencing, dilemmas, breve,\n",
      "Nearest to cost: ban, hugely, aukrust, insurance, consultants, expend, systems, developers,\n",
      "Nearest to prince: untie, hitler, infancy, unpredictability, oliver, juno, chroniclers, advocated,\n",
      "Nearest to freedom: thc, undermine, morally, counsel, theropods, minors, criticisms, abc,\n"
     ]
    },
    {
     "name": "stdout",
     "output_type": "stream",
     "text": [
      "Epoch 2/10 Iteration: 8100 Avg. Training loss: 4.3467 0.4829 sec/batch\n",
      "Epoch 2/10 Iteration: 8200 Avg. Training loss: 4.2975 0.4668 sec/batch\n"
     ]
    }
   ],
   "source": [
    "epochs = 10\n",
    "batch_size = 1000\n",
    "window_size = 10\n",
    "\n",
    "with train_graph.as_default():\n",
    "    saver = tf.train.Saver()\n",
    "\n",
    "with tf.Session(graph=train_graph) as sess:\n",
    "    iteration = 1\n",
    "    loss = 0\n",
    "    sess.run(tf.global_variables_initializer())\n",
    "\n",
    "    for e in range(1, epochs+1):\n",
    "        batches = get_batches(train_words, batch_size, window_size)\n",
    "        start = time.time()\n",
    "        for x, y in batches:\n",
    "            \n",
    "            feed = {inputs: x,\n",
    "                    labels: np.array(y)[:, None]}\n",
    "            train_loss, _ = sess.run([cost, optimizer], feed_dict=feed)\n",
    "            \n",
    "            loss += train_loss\n",
    "            \n",
    "            if iteration % 100 == 0: \n",
    "                end = time.time()\n",
    "                print(\"Epoch {}/{}\".format(e, epochs),\n",
    "                      \"Iteration: {}\".format(iteration),\n",
    "                      \"Avg. Training loss: {:.4f}\".format(loss/100),\n",
    "                      \"{:.4f} sec/batch\".format((end-start)/100))\n",
    "                loss = 0\n",
    "                start = time.time()\n",
    "            \n",
    "            if iteration % 1000 == 0:\n",
    "                ## From Thushan Ganegedara's implementation\n",
    "                # note that this is expensive (~20% slowdown if computed every 500 steps)\n",
    "                sim = similarity.eval()\n",
    "                for i in range(valid_size):\n",
    "                    valid_word = int_to_vocab[valid_examples[i]]\n",
    "                    top_k = 8 # number of nearest neighbors\n",
    "                    nearest = (-sim[i, :]).argsort()[1:top_k+1]\n",
    "                    log = 'Nearest to %s:' % valid_word\n",
    "                    for k in range(top_k):\n",
    "                        close_word = int_to_vocab[nearest[k]]\n",
    "                        log = '%s %s,' % (log, close_word)\n",
    "                    print(log)\n",
    "            \n",
    "            iteration += 1\n",
    "    save_path = saver.save(sess, \"checkpoints/text8.ckpt\")\n",
    "    embed_mat = sess.run(normalized_embedding)"
   ]
  },
  {
   "cell_type": "markdown",
   "metadata": {},
   "source": [
    "Restore the trained network if you need to:"
   ]
  },
  {
   "cell_type": "code",
   "execution_count": null,
   "metadata": {
    "collapsed": true
   },
   "outputs": [],
   "source": [
    "with train_graph.as_default():\n",
    "    saver = tf.train.Saver()\n",
    "\n",
    "with tf.Session(graph=train_graph) as sess:\n",
    "    saver.restore(sess, tf.train.latest_checkpoint('checkpoints'))\n",
    "    embed_mat = sess.run(embedding)"
   ]
  },
  {
   "cell_type": "markdown",
   "metadata": {},
   "source": [
    "## Visualizing the word vectors\n",
    "\n",
    "Below we'll use T-SNE to visualize how our high-dimensional word vectors cluster together. T-SNE is used to project these vectors into two dimensions while preserving local stucture. Check out [this post from Christopher Olah](http://colah.github.io/posts/2014-10-Visualizing-MNIST/) to learn more about T-SNE and other ways to visualize high-dimensional data."
   ]
  },
  {
   "cell_type": "code",
   "execution_count": null,
   "metadata": {
    "collapsed": true
   },
   "outputs": [],
   "source": [
    "%matplotlib inline\n",
    "%config InlineBackend.figure_format = 'retina'\n",
    "\n",
    "import matplotlib.pyplot as plt\n",
    "from sklearn.manifold import TSNE"
   ]
  },
  {
   "cell_type": "code",
   "execution_count": null,
   "metadata": {
    "collapsed": true
   },
   "outputs": [],
   "source": [
    "viz_words = 500\n",
    "tsne = TSNE()\n",
    "embed_tsne = tsne.fit_transform(embed_mat[:viz_words, :])"
   ]
  },
  {
   "cell_type": "code",
   "execution_count": null,
   "metadata": {
    "collapsed": true
   },
   "outputs": [],
   "source": [
    "fig, ax = plt.subplots(figsize=(14, 14))\n",
    "for idx in range(viz_words):\n",
    "    plt.scatter(*embed_tsne[idx, :], color='steelblue')\n",
    "    plt.annotate(int_to_vocab[idx], (embed_tsne[idx, 0], embed_tsne[idx, 1]), alpha=0.7)"
   ]
  }
 ],
 "metadata": {
  "kernelspec": {
   "display_name": "Python 3",
   "language": "python",
   "name": "python3"
  },
  "language_info": {
   "codemirror_mode": {
    "name": "ipython",
    "version": 3
   },
   "file_extension": ".py",
   "mimetype": "text/x-python",
   "name": "python",
   "nbconvert_exporter": "python",
   "pygments_lexer": "ipython3",
   "version": "3.6.0"
  }
 },
 "nbformat": 4,
 "nbformat_minor": 2
}
